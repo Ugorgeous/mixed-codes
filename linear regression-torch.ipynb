{
 "cells": [
  {
   "cell_type": "code",
   "execution_count": 2,
   "id": "b4928457",
   "metadata": {},
   "outputs": [],
   "source": [
    "import torch\n",
    "import numpy as np"
   ]
  },
  {
   "cell_type": "markdown",
   "id": "96b384e7",
   "metadata": {},
   "source": [
    "### 创建数据"
   ]
  },
  {
   "cell_type": "code",
   "execution_count": 3,
   "id": "9b0e5c5b",
   "metadata": {},
   "outputs": [
    {
     "data": {
      "text/plain": [
       "(11, 1)"
      ]
     },
     "execution_count": 3,
     "metadata": {},
     "output_type": "execute_result"
    }
   ],
   "source": [
    "x_values = [i for i in range(11)]\n",
    "x_train = np.array(x_values, dtype=np.float32)\n",
    "x_train = x_train.reshape(-1, 1)\n",
    "x_train.shape"
   ]
  },
  {
   "cell_type": "code",
   "execution_count": 4,
   "id": "775551c3",
   "metadata": {},
   "outputs": [
    {
     "data": {
      "text/plain": [
       "(11, 1)"
      ]
     },
     "execution_count": 4,
     "metadata": {},
     "output_type": "execute_result"
    }
   ],
   "source": [
    "y_values = [2*i + 1 for i in x_values]\n",
    "y_train = np.array(y_values, dtype=np.float32)\n",
    "y_train = y_train.reshape(-1, 1)\n",
    "y_train.shape"
   ]
  },
  {
   "cell_type": "markdown",
   "id": "a50fd39b",
   "metadata": {},
   "source": [
    "### 使用nn.Module实现线性回归"
   ]
  },
  {
   "cell_type": "code",
   "execution_count": 5,
   "id": "b3209d2e",
   "metadata": {},
   "outputs": [],
   "source": [
    "import torch.nn as nn"
   ]
  },
  {
   "cell_type": "markdown",
   "id": "ab3fe0c4",
   "metadata": {},
   "source": [
    "使用仅有一个全连接层的网络实现简单线性回归"
   ]
  },
  {
   "cell_type": "code",
   "execution_count": 6,
   "id": "ed2474d2",
   "metadata": {},
   "outputs": [],
   "source": [
    "class LinearRegressionModel(nn.Module):\n",
    "    def __init__(self, input_dim, output_dim):\n",
    "        super(LinearRegressionModel, self).__init__()\n",
    "        self.linear = nn.Linear(input_dim, output_dim)\n",
    "\n",
    "    def forward(self, x):\n",
    "        out = self.linear(x)\n",
    "        return out"
   ]
  },
  {
   "cell_type": "code",
   "execution_count": 7,
   "id": "f31ba4c8",
   "metadata": {},
   "outputs": [],
   "source": [
    "input_dim = 1\n",
    "output_dim = 1\n",
    "\n",
    "model = LinearRegressionModel(input_dim, output_dim)"
   ]
  },
  {
   "cell_type": "markdown",
   "id": "12282fe4",
   "metadata": {},
   "source": [
    "学习率与损失函数"
   ]
  },
  {
   "cell_type": "code",
   "execution_count": 9,
   "id": "a4ad06e6",
   "metadata": {},
   "outputs": [],
   "source": [
    "epochs = 500\n",
    "learning_rate = 0.01\n",
    "optimizer = torch.optim.SGD(model.parameters(), lr=learning_rate)\n",
    "criterion = nn.MSELoss()"
   ]
  },
  {
   "cell_type": "markdown",
   "id": "5aeea522",
   "metadata": {},
   "source": [
    "训练"
   ]
  },
  {
   "cell_type": "code",
   "execution_count": 16,
   "id": "5f513dee",
   "metadata": {},
   "outputs": [
    {
     "name": "stdout",
     "output_type": "stream",
     "text": [
      "epoch 0, loss 1.5593505653388462e-11\n",
      "epoch 50, loss 1.5593505653388462e-11\n",
      "epoch 100, loss 1.5593505653388462e-11\n",
      "epoch 150, loss 1.5593505653388462e-11\n",
      "epoch 200, loss 1.5593505653388462e-11\n",
      "epoch 250, loss 1.5593505653388462e-11\n",
      "epoch 300, loss 1.5593505653388462e-11\n",
      "epoch 350, loss 1.5593505653388462e-11\n",
      "epoch 400, loss 1.5593505653388462e-11\n",
      "epoch 450, loss 1.5593505653388462e-11\n",
      "epoch 499, loss 1.5593505653388462e-11\n"
     ]
    }
   ],
   "source": [
    "for epoch in range(epochs):\n",
    "    #数据转换为tensor格式\n",
    "    inputs = torch.from_numpy(x_train)\n",
    "    labels = torch.from_numpy(y_train)\n",
    "\n",
    "    # 每一次迭代前需要将梯度清零\n",
    "    optimizer.zero_grad() \n",
    "\n",
    "    # 前向传播\n",
    "    outputs = model(inputs)\n",
    "\n",
    "    # 计算损失\n",
    "    loss = criterion(outputs, labels)\n",
    "\n",
    "    # 返向传播\n",
    "    loss.backward()\n",
    "\n",
    "    # 更新权重参数\n",
    "    optimizer.step()\n",
    "    \n",
    "    #每50轮输出一次损失\n",
    "    if (epoch % 50 == 0) | (epoch==epochs-1):\n",
    "        print('epoch {}, loss {}'.format(epoch, loss.item()))"
   ]
  },
  {
   "cell_type": "markdown",
   "id": "741935de",
   "metadata": {},
   "source": [
    "输出预测值"
   ]
  },
  {
   "cell_type": "code",
   "execution_count": 17,
   "id": "3735d4e6",
   "metadata": {},
   "outputs": [
    {
     "data": {
      "text/plain": [
       "array([[ 0.99999267],\n",
       "       [ 2.9999938 ],\n",
       "       [ 4.999995  ],\n",
       "       [ 6.9999967 ],\n",
       "       [ 8.999997  ],\n",
       "       [10.999998  ],\n",
       "       [13.        ],\n",
       "       [15.000001  ],\n",
       "       [17.000002  ],\n",
       "       [19.000004  ],\n",
       "       [21.000004  ]], dtype=float32)"
      ]
     },
     "execution_count": 17,
     "metadata": {},
     "output_type": "execute_result"
    }
   ],
   "source": [
    "predicted = model(torch.from_numpy(x_train).requires_grad_()).data.numpy()\n",
    "predicted"
   ]
  },
  {
   "cell_type": "markdown",
   "id": "a1060a46",
   "metadata": {},
   "source": [
    "与真实值进行简单对比"
   ]
  },
  {
   "cell_type": "code",
   "execution_count": 18,
   "id": "6b30a44b",
   "metadata": {},
   "outputs": [
    {
     "data": {
      "text/plain": [
       "array([[ 1.],\n",
       "       [ 3.],\n",
       "       [ 5.],\n",
       "       [ 7.],\n",
       "       [ 9.],\n",
       "       [11.],\n",
       "       [13.],\n",
       "       [15.],\n",
       "       [17.],\n",
       "       [19.],\n",
       "       [21.]], dtype=float32)"
      ]
     },
     "execution_count": 18,
     "metadata": {},
     "output_type": "execute_result"
    }
   ],
   "source": [
    "y_train"
   ]
  },
  {
   "cell_type": "code",
   "execution_count": null,
   "id": "32340140",
   "metadata": {},
   "outputs": [],
   "source": []
  }
 ],
 "metadata": {
  "kernelspec": {
   "display_name": "PyTorch",
   "language": "python",
   "name": "pytorch"
  },
  "language_info": {
   "codemirror_mode": {
    "name": "ipython",
    "version": 3
   },
   "file_extension": ".py",
   "mimetype": "text/x-python",
   "name": "python",
   "nbconvert_exporter": "python",
   "pygments_lexer": "ipython3",
   "version": "3.9.12"
  },
  "toc": {
   "base_numbering": 1,
   "nav_menu": {},
   "number_sections": true,
   "sideBar": true,
   "skip_h1_title": false,
   "title_cell": "Table of Contents",
   "title_sidebar": "Contents",
   "toc_cell": false,
   "toc_position": {},
   "toc_section_display": true,
   "toc_window_display": false
  }
 },
 "nbformat": 4,
 "nbformat_minor": 5
}
